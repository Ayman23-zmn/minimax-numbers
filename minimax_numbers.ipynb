{
 "cells": [
  {
   "cell_type": "markdown",
   "source": [
    "# Prompts for a list of numbers. Prints out just the max and min of those prompted numbers list."
   ],
   "metadata": {}
  },
  {
   "cell_type": "code",
   "execution_count": 1,
   "source": [
    "count = 0\r\n",
    "\r\n",
    "while True:                    #True means : as long as conditions are met. It will keep on looping(infinite)\r\n",
    "    number = input(\"enter a number: \")\r\n",
    "    \r\n",
    "    if number == \"done\":\r\n",
    "        break\r\n",
    "\r\n",
    "    try:\r\n",
    "        num = float(number)\r\n",
    "    except:\r\n",
    "        print('Invalid input')\r\n",
    "        continue                # continue: after priinting exception next codes in loop will be resumed  \r\n",
    "\r\n",
    "    if count==0:\r\n",
    "        min_number = num \r\n",
    "        max_number = num\r\n",
    "\r\n",
    "    elif min_number<num:\r\n",
    "        min_number=num\r\n",
    "\r\n",
    "    elif max_number> num:\r\n",
    "        max_number = num\r\n",
    "\r\n",
    "    count+=1                  \r\n",
    "\r\n",
    "\r\n",
    "\r\n",
    "\r\n",
    "print(f'Max of the list is: {max_number}\\n Min of the list is: {min_number}')"
   ],
   "outputs": [
    {
     "output_type": "stream",
     "name": "stdout",
     "text": [
      "Max of the list is: 2.0\n",
      " Min of the list is: 89.0\n"
     ]
    }
   ],
   "metadata": {}
  }
 ],
 "metadata": {
  "orig_nbformat": 4,
  "language_info": {
   "name": "python",
   "version": "3.9.7",
   "mimetype": "text/x-python",
   "codemirror_mode": {
    "name": "ipython",
    "version": 3
   },
   "pygments_lexer": "ipython3",
   "nbconvert_exporter": "python",
   "file_extension": ".py"
  },
  "kernelspec": {
   "name": "python3",
   "display_name": "Python 3.9.7 64-bit"
  },
  "interpreter": {
   "hash": "ac59ebe37160ed0dfa835113d9b8498d9f09ceb179beaac4002f036b9467c963"
  }
 },
 "nbformat": 4,
 "nbformat_minor": 2
}