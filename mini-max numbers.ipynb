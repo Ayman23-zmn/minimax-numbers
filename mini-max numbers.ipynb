{
 "cells": [
  {
   "cell_type": "code",
   "execution_count": 4,
   "source": [
    "def computegrade(score):\r\n",
    "    \r\n",
    "    if score<0 or score>1.0:\r\n",
    "        return 'outta range'\r\n",
    "\r\n",
    "    elif score>=0.9:\r\n",
    "        return 'A' \r\n",
    "\r\n",
    "    elif score>=0.8:\r\n",
    "        return 'B'\r\n",
    "\r\n",
    "    elif score>=0.7:\r\n",
    "        return 'C'\r\n",
    "\r\n",
    "    elif score>=0.6:\r\n",
    "        return 'D'\r\n",
    "\r\n",
    "    else:\r\n",
    "        return 'F'\r\n",
    "\r\n",
    "score = computegrade(float(input(\"enter score: \")))\r\n",
    "\r\n",
    "print(\"Grade is :\", score)"
   ],
   "outputs": [
    {
     "output_type": "stream",
     "name": "stdout",
     "text": [
      "Grade is : A\n"
     ]
    }
   ],
   "metadata": {}
  }
 ],
 "metadata": {
  "orig_nbformat": 4,
  "language_info": {
   "name": "python",
   "version": "3.9.7",
   "mimetype": "text/x-python",
   "codemirror_mode": {
    "name": "ipython",
    "version": 3
   },
   "pygments_lexer": "ipython3",
   "nbconvert_exporter": "python",
   "file_extension": ".py"
  },
  "kernelspec": {
   "name": "python3",
   "display_name": "Python 3.9.7 64-bit"
  },
  "interpreter": {
   "hash": "ac59ebe37160ed0dfa835113d9b8498d9f09ceb179beaac4002f036b9467c963"
  }
 },
 "nbformat": 4,
 "nbformat_minor": 2
}